{
 "cells": [
  {
   "cell_type": "markdown",
   "id": "22811621",
   "metadata": {
    "slideshow": {
     "slide_type": "slide"
    }
   },
   "source": [
    "알테어를 활용한 탐색적 데이터 시각화\n",
    "===\n",
    "\n",
    "(Explorative Data Visualization with Altair)\n",
    "==="
   ]
  },
  {
   "cell_type": "markdown",
   "id": "c9067e5a",
   "metadata": {
    "slideshow": {
     "slide_type": "fragment"
    }
   },
   "source": [
    "![](https://altair-viz.github.io/altair-tutorial/_images/altair-gallery.png)"
   ]
  },
  {
   "cell_type": "markdown",
   "id": "fb654a3e",
   "metadata": {
    "slideshow": {
     "slide_type": "slide"
    }
   },
   "source": [
    "## 소개\n",
    "\n",
    "- 탐색적 데이터 시각화\n",
    "    - 알테어 라이브러리\n",
    "    - 베가 데이터셋\n",
    "- 자료 \n",
    "    - 깃허브 저장소: [알테어를 활용한 탐색적 데이터 시각화](https://github.com/logistex/EDV)\n",
    "    - 알테어 문서: [알테어 문서](http://altair-viz.github.io/)\n",
    "    - 원저: [원저](https://altair-viz.github.io/altair-tutorial) \n",
    "- 설치\n",
    "```shell\n",
    "$ conda install -c conda-forge altair vega_datasets\n",
    "```"
   ]
  },
  {
   "cell_type": "markdown",
   "id": "18b803bd",
   "metadata": {
    "slideshow": {
     "slide_type": "slide"
    }
   },
   "source": [
    "## 목차\n",
    "\n",
    "1. [동기 유발을 위한 알테어 데모]()\n",
    "2. [단순 차트: 핵심 개념]()\n",
    "3. [구간 나누기 및 집계]()\n",
    "4. [겹치기 및 병합]()\n",
    "5. [데이터셋 탐색]()\n",
    "6. [선택: 상호작용성 생성]()\n",
    "7. [변환: 차트 명세서 내부의 데이터 흐름]()\n",
    "8. [설정: 차트 조절]()\n",
    "9. [지리적 시각화: 지도]()"
   ]
  },
  {
   "cell_type": "code",
   "execution_count": null,
   "id": "c2d95eb4",
   "metadata": {
    "slideshow": {
     "slide_type": "slide"
    }
   },
   "outputs": [],
   "source": []
  },
  {
   "cell_type": "code",
   "execution_count": null,
   "id": "05e3c542",
   "metadata": {},
   "outputs": [],
   "source": []
  },
  {
   "cell_type": "code",
   "execution_count": null,
   "id": "97091c24",
   "metadata": {},
   "outputs": [],
   "source": []
  },
  {
   "cell_type": "code",
   "execution_count": null,
   "id": "b9029b98",
   "metadata": {},
   "outputs": [],
   "source": []
  }
 ],
 "metadata": {
  "celltoolbar": "Slideshow",
  "kernelspec": {
   "display_name": "Python 3",
   "language": "python",
   "name": "python3"
  },
  "language_info": {
   "codemirror_mode": {
    "name": "ipython",
    "version": 3
   },
   "file_extension": ".py",
   "mimetype": "text/x-python",
   "name": "python",
   "nbconvert_exporter": "python",
   "pygments_lexer": "ipython3",
   "version": "3.8.11"
  },
  "latex_envs": {
   "LaTeX_envs_menu_present": true,
   "autoclose": false,
   "autocomplete": true,
   "bibliofile": "biblio.bib",
   "cite_by": "apalike",
   "current_citInitial": 1,
   "eqLabelWithNumbers": true,
   "eqNumInitial": 1,
   "hotkeys": {
    "equation": "Ctrl-E",
    "itemize": "Ctrl-I"
   },
   "labels_anchors": false,
   "latex_user_defs": false,
   "report_style_numbering": false,
   "user_envs_cfg": false
  },
  "toc": {
   "base_numbering": 1,
   "nav_menu": {},
   "number_sections": false,
   "sideBar": true,
   "skip_h1_title": true,
   "title_cell": "Table of Contents",
   "title_sidebar": "Contents",
   "toc_cell": false,
   "toc_position": {},
   "toc_section_display": true,
   "toc_window_display": true
  },
  "varInspector": {
   "cols": {
    "lenName": 16,
    "lenType": 16,
    "lenVar": 40
   },
   "kernels_config": {
    "python": {
     "delete_cmd_postfix": "",
     "delete_cmd_prefix": "del ",
     "library": "var_list.py",
     "varRefreshCmd": "print(var_dic_list())"
    },
    "r": {
     "delete_cmd_postfix": ") ",
     "delete_cmd_prefix": "rm(",
     "library": "var_list.r",
     "varRefreshCmd": "cat(var_dic_list()) "
    }
   },
   "types_to_exclude": [
    "module",
    "function",
    "builtin_function_or_method",
    "instance",
    "_Feature"
   ],
   "window_display": false
  }
 },
 "nbformat": 4,
 "nbformat_minor": 5
}
